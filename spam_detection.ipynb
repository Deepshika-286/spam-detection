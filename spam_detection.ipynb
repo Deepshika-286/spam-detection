{
  "cells": [
    {
      "cell_type": "markdown",
      "metadata": {
        "id": "view-in-github",
        "colab_type": "text"
      },
      "source": [
        "<a href=\"https://colab.research.google.com/github/Deepshika-286/spam-detection/blob/main/spam_detection.ipynb\" target=\"_parent\"><img src=\"https://colab.research.google.com/assets/colab-badge.svg\" alt=\"Open In Colab\"/></a>"
      ]
    },
    {
      "cell_type": "markdown",
      "source": [
        "# Libraries"
      ],
      "metadata": {
        "id": "v01ScXiL7rnE"
      },
      "id": "v01ScXiL7rnE"
    },
    {
      "cell_type": "code",
      "execution_count": null,
      "id": "bfb45c24",
      "metadata": {
        "id": "bfb45c24",
        "outputId": "81b86b2d-6d44-4863-e6e3-5615456af7ac"
      },
      "outputs": [
        {
          "name": "stderr",
          "output_type": "stream",
          "text": [
            "C:\\Users\\91886\\anaconda3\\lib\\site-packages\\scipy\\__init__.py:146: UserWarning: A NumPy version >=1.16.5 and <1.23.0 is required for this version of SciPy (detected version 1.26.4\n",
            "  warnings.warn(f\"A NumPy version >={np_minversion} and <{np_maxversion}\"\n"
          ]
        }
      ],
      "source": [
        "import pandas as pd\n",
        "import numpy as np\n",
        "from sklearn.feature_extraction.text import CountVectorizer\n",
        "from sklearn.model_selection import train_test_split\n",
        "from sklearn.naive_bayes import MultinomialNB\n",
        "import pickle\n",
        "from gensim import parsing\n",
        "import chardet"
      ]
    },
    {
      "cell_type": "markdown",
      "source": [
        "# Data collection"
      ],
      "metadata": {
        "id": "J7ckMpsR7ygW"
      },
      "id": "J7ckMpsR7ygW"
    },
    {
      "cell_type": "code",
      "execution_count": null,
      "id": "1f008ca5",
      "metadata": {
        "id": "1f008ca5",
        "outputId": "d1e156f9-16d2-4850-9a05-d5db808c0e93"
      },
      "outputs": [
        {
          "data": {
            "text/html": [
              "<div>\n",
              "<style scoped>\n",
              "    .dataframe tbody tr th:only-of-type {\n",
              "        vertical-align: middle;\n",
              "    }\n",
              "\n",
              "    .dataframe tbody tr th {\n",
              "        vertical-align: top;\n",
              "    }\n",
              "\n",
              "    .dataframe thead th {\n",
              "        text-align: right;\n",
              "    }\n",
              "</style>\n",
              "<table border=\"1\" class=\"dataframe\">\n",
              "  <thead>\n",
              "    <tr style=\"text-align: right;\">\n",
              "      <th></th>\n",
              "      <th>Category</th>\n",
              "      <th>Message</th>\n",
              "    </tr>\n",
              "  </thead>\n",
              "  <tbody>\n",
              "    <tr>\n",
              "      <th>0</th>\n",
              "      <td>ham</td>\n",
              "      <td>Go until jurong point, crazy.. Available only ...</td>\n",
              "    </tr>\n",
              "    <tr>\n",
              "      <th>1</th>\n",
              "      <td>ham</td>\n",
              "      <td>Ok lar... Joking wif u oni...</td>\n",
              "    </tr>\n",
              "    <tr>\n",
              "      <th>2</th>\n",
              "      <td>spam</td>\n",
              "      <td>Free entry in 2 a wkly comp to win FA Cup fina...</td>\n",
              "    </tr>\n",
              "    <tr>\n",
              "      <th>3</th>\n",
              "      <td>ham</td>\n",
              "      <td>U dun say so early hor... U c already then say...</td>\n",
              "    </tr>\n",
              "    <tr>\n",
              "      <th>4</th>\n",
              "      <td>ham</td>\n",
              "      <td>Nah I don't think he goes to usf, he lives aro...</td>\n",
              "    </tr>\n",
              "  </tbody>\n",
              "</table>\n",
              "</div>"
            ],
            "text/plain": [
              "  Category                                            Message\n",
              "0      ham  Go until jurong point, crazy.. Available only ...\n",
              "1      ham                      Ok lar... Joking wif u oni...\n",
              "2     spam  Free entry in 2 a wkly comp to win FA Cup fina...\n",
              "3      ham  U dun say so early hor... U c already then say...\n",
              "4      ham  Nah I don't think he goes to usf, he lives aro..."
            ]
          },
          "execution_count": 8,
          "metadata": {},
          "output_type": "execute_result"
        }
      ],
      "source": [
        "data = pd.read_csv('spam.csv')\n",
        "data.head()"
      ]
    },
    {
      "cell_type": "markdown",
      "source": [
        "# Data pre-processing"
      ],
      "metadata": {
        "id": "PMr64HOx72kb"
      },
      "id": "PMr64HOx72kb"
    },
    {
      "cell_type": "code",
      "execution_count": null,
      "id": "72920171",
      "metadata": {
        "id": "72920171"
      },
      "outputs": [],
      "source": [
        "with open('spam.csv','rb') as f:\n",
        "  result=chardet.detect(f.read())"
      ]
    },
    {
      "cell_type": "code",
      "execution_count": null,
      "id": "e513545f",
      "metadata": {
        "id": "e513545f",
        "outputId": "4ce070ce-d774-4141-aafb-824ae86d4562"
      },
      "outputs": [
        {
          "data": {
            "text/html": [
              "<div>\n",
              "<style scoped>\n",
              "    .dataframe tbody tr th:only-of-type {\n",
              "        vertical-align: middle;\n",
              "    }\n",
              "\n",
              "    .dataframe tbody tr th {\n",
              "        vertical-align: top;\n",
              "    }\n",
              "\n",
              "    .dataframe thead th {\n",
              "        text-align: right;\n",
              "    }\n",
              "</style>\n",
              "<table border=\"1\" class=\"dataframe\">\n",
              "  <thead>\n",
              "    <tr style=\"text-align: right;\">\n",
              "      <th></th>\n",
              "      <th>Category</th>\n",
              "      <th>Message</th>\n",
              "    </tr>\n",
              "  </thead>\n",
              "  <tbody>\n",
              "    <tr>\n",
              "      <th>0</th>\n",
              "      <td>1</td>\n",
              "      <td>Go until jurong point, crazy.. Available only ...</td>\n",
              "    </tr>\n",
              "    <tr>\n",
              "      <th>1</th>\n",
              "      <td>1</td>\n",
              "      <td>Ok lar... Joking wif u oni...</td>\n",
              "    </tr>\n",
              "    <tr>\n",
              "      <th>2</th>\n",
              "      <td>0</td>\n",
              "      <td>Free entry in 2 a wkly comp to win FA Cup fina...</td>\n",
              "    </tr>\n",
              "    <tr>\n",
              "      <th>3</th>\n",
              "      <td>1</td>\n",
              "      <td>U dun say so early hor... U c already then say...</td>\n",
              "    </tr>\n",
              "    <tr>\n",
              "      <th>4</th>\n",
              "      <td>1</td>\n",
              "      <td>Nah I don't think he goes to usf, he lives aro...</td>\n",
              "    </tr>\n",
              "  </tbody>\n",
              "</table>\n",
              "</div>"
            ],
            "text/plain": [
              "   Category                                            Message\n",
              "0         1  Go until jurong point, crazy.. Available only ...\n",
              "1         1                      Ok lar... Joking wif u oni...\n",
              "2         0  Free entry in 2 a wkly comp to win FA Cup fina...\n",
              "3         1  U dun say so early hor... U c already then say...\n",
              "4         1  Nah I don't think he goes to usf, he lives aro..."
            ]
          },
          "execution_count": 10,
          "metadata": {},
          "output_type": "execute_result"
        }
      ],
      "source": [
        "data['Category']=data['Category'].map({'spam':0,'ham':1})\n",
        "data.head()"
      ]
    },
    {
      "cell_type": "code",
      "execution_count": null,
      "id": "a41f6e89",
      "metadata": {
        "id": "a41f6e89"
      },
      "outputs": [],
      "source": [
        "dataset = data.values"
      ]
    },
    {
      "cell_type": "code",
      "execution_count": null,
      "id": "1e3005a1",
      "metadata": {
        "id": "1e3005a1"
      },
      "outputs": [],
      "source": [
        "np.random.shuffle(dataset)"
      ]
    },
    {
      "cell_type": "code",
      "execution_count": null,
      "id": "bfa295c9",
      "metadata": {
        "id": "bfa295c9"
      },
      "outputs": [],
      "source": [
        "x = dataset[:,1]\n",
        "y = dataset[:,0]\n",
        "y=y.astype('int32')\n"
      ]
    },
    {
      "cell_type": "code",
      "execution_count": null,
      "id": "f7faec40",
      "metadata": {
        "id": "f7faec40"
      },
      "outputs": [],
      "source": [
        "for i in range(x.shape[0]):\n",
        "\n",
        "    x[i] = parsing.stem_text(x[i].lower())"
      ]
    },
    {
      "cell_type": "code",
      "execution_count": null,
      "id": "406eebd5",
      "metadata": {
        "id": "406eebd5"
      },
      "outputs": [],
      "source": [
        "vc = CountVectorizer()\n",
        "x_transformed = vc.fit_transform(x)"
      ]
    },
    {
      "cell_type": "code",
      "execution_count": null,
      "id": "06c74b6a",
      "metadata": {
        "id": "06c74b6a"
      },
      "outputs": [],
      "source": [
        "x_train=x_transformed[0:4000,:]\n",
        "y_train=y[0:4000]\n",
        "x_test=x_transformed[4000:,:]\n",
        "y_test=y[4000:]"
      ]
    },
    {
      "cell_type": "code",
      "execution_count": null,
      "id": "0b7b4bc8",
      "metadata": {
        "id": "0b7b4bc8",
        "outputId": "86b8bd84-89f2-42f3-a451-078d2361e5bf"
      },
      "outputs": [
        {
          "data": {
            "text/plain": [
              "(4000, 8302)"
            ]
          },
          "execution_count": 18,
          "metadata": {},
          "output_type": "execute_result"
        }
      ],
      "source": [
        "x_train.shape"
      ]
    },
    {
      "cell_type": "markdown",
      "source": [
        "# Model Creation"
      ],
      "metadata": {
        "id": "wD5-3WPP8ETM"
      },
      "id": "wD5-3WPP8ETM"
    },
    {
      "cell_type": "code",
      "execution_count": null,
      "id": "8e6eb42b",
      "metadata": {
        "id": "8e6eb42b",
        "outputId": "539287ca-8ab7-4741-f9da-9f591f0aafe2"
      },
      "outputs": [
        {
          "data": {
            "text/plain": [
              "MultinomialNB()"
            ]
          },
          "execution_count": 19,
          "metadata": {},
          "output_type": "execute_result"
        }
      ],
      "source": [
        "nbayes = MultinomialNB()\n",
        "nbayes.fit(x_train,y_train)"
      ]
    },
    {
      "cell_type": "code",
      "execution_count": null,
      "id": "d622f963",
      "metadata": {
        "id": "d622f963"
      },
      "outputs": [],
      "source": [
        "y_predicted = nbayes.predict(x_test)"
      ]
    },
    {
      "cell_type": "markdown",
      "source": [
        "# Model evaluation"
      ],
      "metadata": {
        "id": "YkWp6jUA8Idm"
      },
      "id": "YkWp6jUA8Idm"
    },
    {
      "cell_type": "code",
      "execution_count": null,
      "id": "7131e7d8",
      "metadata": {
        "id": "7131e7d8",
        "outputId": "fe97b848-5e4b-4cca-d2ef-c0f91ef4aff7"
      },
      "outputs": [
        {
          "name": "stdout",
          "output_type": "stream",
          "text": [
            "              precision    recall  f1-score   support\n",
            "\n",
            "           0       0.94      0.93      0.93       210\n",
            "           1       0.99      0.99      0.99      1362\n",
            "\n",
            "    accuracy                           0.98      1572\n",
            "   macro avg       0.96      0.96      0.96      1572\n",
            "weighted avg       0.98      0.98      0.98      1572\n",
            "\n"
          ]
        }
      ],
      "source": [
        "from sklearn.metrics import classification_report\n",
        "\n",
        "y_pred = nbayes.predict(x_test)\n",
        "\n",
        "print(classification_report(y_test, y_pred))"
      ]
    },
    {
      "cell_type": "markdown",
      "source": [
        "# Spam detection"
      ],
      "metadata": {
        "id": "KIiDFR2m8Lxk"
      },
      "id": "KIiDFR2m8Lxk"
    },
    {
      "cell_type": "code",
      "execution_count": null,
      "id": "2f543f10",
      "metadata": {
        "id": "2f543f10"
      },
      "outputs": [],
      "source": [
        "def predict(text):\n",
        "\n",
        "    text_vector = vc.transform(text)\n",
        "    print(nbayes.predict(text_vector))\n",
        "\n",
        ""
      ]
    },
    {
      "cell_type": "code",
      "execution_count": null,
      "id": "bbe08b98",
      "metadata": {
        "id": "bbe08b98",
        "outputId": "5be1d57c-ba5d-4590-84d3-63bd6b383c6a"
      },
      "outputs": [
        {
          "name": "stdout",
          "output_type": "stream",
          "text": [
            "[1 0]\n"
          ]
        }
      ],
      "source": [
        "emails = [\n",
        "    'Hey mohan, can we get together to watch footbal game tomorrow?',\n",
        "    'Upto 20% discount on parking, exclusive offer just for you. Dont miss this reward!'\n",
        "]\n",
        "\n",
        "predict(emails)"
      ]
    }
  ],
  "metadata": {
    "kernelspec": {
      "display_name": "Python 3 (ipykernel)",
      "language": "python",
      "name": "python3"
    },
    "language_info": {
      "codemirror_mode": {
        "name": "ipython",
        "version": 3
      },
      "file_extension": ".py",
      "mimetype": "text/x-python",
      "name": "python",
      "nbconvert_exporter": "python",
      "pygments_lexer": "ipython3",
      "version": "3.9.12"
    },
    "colab": {
      "provenance": [],
      "include_colab_link": true
    }
  },
  "nbformat": 4,
  "nbformat_minor": 5
}